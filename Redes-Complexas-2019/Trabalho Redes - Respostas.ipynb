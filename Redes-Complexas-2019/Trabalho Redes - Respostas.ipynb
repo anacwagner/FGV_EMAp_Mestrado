{
 "cells": [
  {
   "cell_type": "markdown",
   "metadata": {},
   "source": [
    "# Trabalho de Redes Complexas\n",
    "\n",
    "\n",
    "\n",
    "**ALUNA:**: Ana Carolina Wagner Gouveia de Barros\n",
    "\n",
    "\n",
    "**PROFESSOR**: Moacyr Silva\n",
    "\n",
    "\n",
    "**Mestrado em Modelagem Matemática - EMAp|FGV - 2019.2**"
   ]
  },
  {
   "cell_type": "code",
   "execution_count": 672,
   "metadata": {},
   "outputs": [],
   "source": [
    "# Bibliotecas importadas\n",
    "import networkx as nx\n",
    "import random as rnd\n",
    "rnd.seed()\n",
    "import numpy as np\n",
    "import csv\n",
    "import pickle\n",
    "import itertools\n",
    "\n",
    "import matplotlib.pyplot as plt\n",
    "import warnings\n",
    "warnings.filterwarnings(\"ignore\", category=UserWarning)"
   ]
  },
  {
   "cell_type": "markdown",
   "metadata": {},
   "source": [
    "___\n",
    "\n",
    "## I. Geração de Redes\n",
    "___"
   ]
  },
  {
   "cell_type": "markdown",
   "metadata": {},
   "source": [
    "### EXERCÍCO 1:\n",
    "\n",
    "Construa um programa que gere uma rede a partir de uma distribuição dada – “configuration model” ou modelo de pareamento. Para simplificar, pode permitir *autoloops* e arestas repetidas.\n",
    "\n",
    "**Entrada:** número de vértices $N$, grau de cada nó.\n",
    "\n",
    "**Saída:** lista de arestas."
   ]
  },
  {
   "cell_type": "markdown",
   "metadata": {},
   "source": [
    "___\n",
    "O **modelo de configuração** cria uma rede com uma sequência de graus predefinida (pode ser qualquer uma). O algoritmo começa a partir de uma distribuição de grau inicialmente especificada $p_k$ (fração de vértices na rede que tem grau $k$), em que atribuímos a cada nó $i$ um grau $k_i$ de acordo com uma certa distribuição. Vale ressaltar que o grau total da rede deve ser par, caso contrário teremos nós desemparelhados. \n",
    "\n",
    "*Fonte*: http://networksciencebook.com/chapter/4#generating-networks\n",
    "\n",
    "<img src=\"Figuras/configurationmodel_barabasi.jpg\" alt=\"drawing\" width=\"300\"/>\n",
    "\n",
    "\n",
    "* Começamos selecionando um par de vértices aleatoriamente e ligamos eles. \n",
    "\n",
    "\n",
    "* A cada etapa que selcionamos, diminuímos duas unidades da quantidade de grau total da rede e repetimos esse processo até que não tenha mais nenhum grau remanescente.\n",
    "\n",
    "Aplicando repetidamente esse procedimento na mesma sequência de graus, podemos gerar redes diferentes com o mesmo $p_k$, algumas possuem ciclos, auto-loops ou até mesmo multiligações. \n",
    "\n",
    "**Obs.:** Este modelo, por ter um caráter inerentemente aleatório, ajuda a calcular analiticamente numerosas medidas de rede.\n",
    "___"
   ]
  },
  {
   "cell_type": "markdown",
   "metadata": {},
   "source": [
    "A função `configurationModel` recebe como **parâmetros de entrada** o número de vértices $N$ e um dicíonário *degree_dist*, formado pelos vértices e seus respectivos graus, e gera como **saída** uma lista de arestas, *edges*, com todas as ligações formadas a partir do pareamento."
   ]
  },
  {
   "cell_type": "code",
   "execution_count": 2,
   "metadata": {},
   "outputs": [],
   "source": [
    "def configurationModel(N,degree_dist):\n",
    "    \n",
    "    edges = []\n",
    "    nodes = list(range(1,N+1))\n",
    "    \n",
    "    degrees = list(degree_dist.values())\n",
    "    degree_total = sum(list(degree_dist.values()))\n",
    "    \n",
    "    while degree_total > 0:\n",
    "        node_i = rnd.choice(nodes)\n",
    "        degree_dist[node_i] -= 1\n",
    "        if degree_dist[node_i] == 0:\n",
    "            nodes.remove(node_i)\n",
    "         \n",
    "        node_j = rnd.choice(nodes)\n",
    "        degree_dist[node_j] -= 1\n",
    "        if degree_dist[node_j] == 0:\n",
    "            nodes.remove(node_j)\n",
    " \n",
    "        degree_total = degree_total - 2\n",
    " \n",
    "        edges.append([node_i, node_j])\n",
    " \n",
    "    return edges"
   ]
  },
  {
   "cell_type": "markdown",
   "metadata": {},
   "source": [
    "___\n",
    "### EXERCÍCIO 2:\n",
    "\n",
    "Gere redes livres de escala com $1.000$ vértices a partir do modelo de pareamento com as seguintes combinações de parâmetros: $\\alpha = 2.5$ e $\\left \\langle k \\right \\rangle = 1$, $\\left \\langle k \\right \\rangle=2$ e $\\left \\langle k \\right \\rangle=10$.\n",
    "\n",
    "\n",
    "___"
   ]
  },
  {
   "cell_type": "markdown",
   "metadata": {},
   "source": [
    "Com o algoritmo criado no **Exercício 1**, vamos usar a **distribuição de pareto** para gerar a distribuição dos graus. \n",
    "\n",
    "$$F(x)=1-\\left(\\frac{x_{m}}{x}\\right)^{\\alpha+1}$$\n",
    "\n",
    "Para cada nó $i$ é gerado um número aleatório $y$ e calculamos $F^{-1}(x)$, dada por\n",
    "\n",
    "$$F^{-1}(x)=x_{m}(1-y)^{-1/\\alpha+1}$$\n",
    "\n",
    "O valor do grau mínimo $x_m$ é calculado em função do grau médio $\\left\\langle k\\right\\rangle$ , em que $x_{m}=\\left\\langle k\\right\\rangle \\left(\\frac{\\alpha}{\\alpha+1}\\right)$. "
   ]
  },
  {
   "cell_type": "markdown",
   "metadata": {},
   "source": [
    "A função `degreeDistributionPareto`  recebe como **parâmetros de entrada** o número de vértices $N$, o expoente $\\alpha$ e o grau médio  $\\left\\langle k\\right\\rangle$ e gera como **saída** um dicionário com os vértices e seus respectivos graus de acordo com a distribuição prede􏰀finida. \n",
    "\n"
   ]
  },
  {
   "cell_type": "code",
   "execution_count": 3,
   "metadata": {},
   "outputs": [],
   "source": [
    "def degreeDistributionPareto(N, alpha, k):\n",
    "    \n",
    "    nodes = []\n",
    "    degree_total = 0\n",
    " \n",
    "    # Grau Minimo\n",
    "    xm = k * (alpha / (alpha + 1))\n",
    "    \n",
    "    for i in range(1, N + 1):\n",
    "        degree = 0\n",
    "        while degree == 0: \n",
    "            y = rnd.random()\n",
    "            inversa = xm * ((1 - y) ** (1/ (-alpha + 1))) \n",
    "            degree = int(inversa)\n",
    " \n",
    "        degree_total = degree_total + degree\n",
    "        nodes.append([i, degree])\n",
    "        \n",
    "    if (degree_total % 2) != 0:\n",
    "        nodes[0][1] = nodes[0][1] + 1\n",
    " \n",
    "    nodes_dict = {node[0]: (node[1]) for node in nodes}\n",
    "    return nodes_dict"
   ]
  },
  {
   "cell_type": "markdown",
   "metadata": {},
   "source": [
    "Vamos usar o algoritmo criado, `degreeDistributionPareto`, para gerar as redes a partir da distribuição de pareto."
   ]
  },
  {
   "cell_type": "code",
   "execution_count": 4,
   "metadata": {},
   "outputs": [],
   "source": [
    "# Parâmetros do modelo\n",
    "N=1000\n",
    "alpha=2.5"
   ]
  },
  {
   "cell_type": "code",
   "execution_count": 5,
   "metadata": {},
   "outputs": [],
   "source": [
    "G1 = degreeDistributionPareto(N, alpha, 1)\n",
    "G2 = degreeDistributionPareto(N, alpha, 2)\n",
    "G3 = degreeDistributionPareto(N, alpha, 10)"
   ]
  },
  {
   "cell_type": "markdown",
   "metadata": {},
   "source": [
    "Agora, vamos usar o algoritmo `configurationModel` para gerar **redes livres de escala** a partir do modelo de paramento, em que o grau $k$ de cada nó $i$ é extraído a partir de uma **distribuição de pareto**. Com $N = 1.000$ geramos três redes usando esse algoritmo. "
   ]
  },
  {
   "cell_type": "code",
   "execution_count": 6,
   "metadata": {},
   "outputs": [],
   "source": [
    "#SF1 = configurationModel(N, G1)\n",
    "#SF2 = configurationModel(N, G2)\n",
    "#SF3 = configurationModel(N, G3)\n",
    "\n",
    "#pickle.dump([SF1,SF2,SF3], open(\"Redes/Pareamento_SF.p\", \"wb\"))\n",
    "[SF1,SF2,SF3] = pickle.load(open(\"Redes/Pareamento_SF.p\", \"rb\" ))"
   ]
  },
  {
   "cell_type": "code",
   "execution_count": 7,
   "metadata": {},
   "outputs": [],
   "source": [
    "def write_csv(G,name):\n",
    "    length = len(G)\n",
    "    with open(\"Redes/Pareamento_%s.csv\" %(name), \"w\", newline=\"\") as csvfile:\n",
    "        csv_writer = csv.writer(csvfile)\n",
    "        csv_writer.writerow(['Source', 'Target'])\n",
    "        for i in range(length):\n",
    "            csv_writer.writerow(G[i])\n",
    "\n",
    "#write_csv(SF1,\"SF1\")\n",
    "#write_csv(SF2,\"SF2\")\n",
    "#write_csv(SF3,\"SF3\")"
   ]
  },
  {
   "cell_type": "markdown",
   "metadata": {},
   "source": [
    "___\n",
    "\n",
    "### EXERCÍCIO 3:\n",
    "\n",
    "Visualize as redes e encontre o grau máximo e o diâmetro. Calcule a variância de $\\left \\langle k \\right \\rangle$ e a distribuição dos graus de entrada. Mostre como determinar o grau máximo esperado e o diâmetro esperado de cada rede. Compare os valores encontrados com os esperados.\n",
    "\n",
    "___"
   ]
  },
  {
   "cell_type": "markdown",
   "metadata": {},
   "source": [
    "A função `degree_distribution` recebe como **parâmetro de entrada** uma rede G (obtido pela biblioteca *networkx* a partir de uma lista de arestas) e o tipo do grau $k$ (entrada, saída ou total). Ela calcula a distribuição dos graus, gerando duas **saídas**: uma lista com todos os graus $k$ e outra lista correspondente as suas respectivas probabilidades $P(k)$. "
   ]
  },
  {
   "cell_type": "code",
   "execution_count": 471,
   "metadata": {},
   "outputs": [],
   "source": [
    "def degree_distribution(G, k_type):\n",
    "    if k_type == 'in':\n",
    "        degrees = list(dict(G.in_degree()).values())\n",
    "    elif k_type == 'out':\n",
    "        degrees = list(dict(G.out_degree()).values())\n",
    "    elif k_type == 'tot':\n",
    "        degrees = list(dict(G.degree()).values())\n",
    "        \n",
    "    max_degree = max(degrees)\n",
    "    kvalues = np.arange(0,max_degree+1)\n",
    "    Pk = np.zeros(max_degree+1) \n",
    "    for k in degrees:\n",
    "        Pk[k] = Pk[k] + 1\n",
    "    Pk = Pk/sum(Pk) # A soma dos elementos de P(k) deve ser igual a 1\n",
    "    \n",
    "    return kvalues,Pk"
   ]
  },
  {
   "cell_type": "markdown",
   "metadata": {},
   "source": [
    "A função `plot_in_degree_distribution` gera os **gráficos da distribuição dos graus de entrada**. Ela recebe dois **parâmetros de entrada**: o grafo G (obtido pela biblioteca *networkx* a partir de uma lista de arestas) e o nome da rede a ser utilizado no título dos gráficos."
   ]
  },
  {
   "cell_type": "code",
   "execution_count": 472,
   "metadata": {},
   "outputs": [],
   "source": [
    "def plot_in_degree_distribution(G, name):\n",
    "    \n",
    "    # Função criada anteriormente\n",
    "    k,Pk = degree_distribution(G, 'in')\n",
    "    # Retira as ocorrências de grau zero \n",
    "    k=k[1:]\n",
    "    Pk=Pk[1:]\n",
    "    \n",
    "    plt.figure(figsize=(15, 5))\n",
    "    \n",
    "    plt.subplot(121)\n",
    "    plt.plot(k, Pk, \"o\", color = \"purple\")\n",
    "    plt.xlabel('$k$', fontsize = \"large\")\n",
    "    plt.ylabel('$p_k$', fontsize = \"large\")\n",
    "    plt.title('In-Degree Distribution - %s' %(name), fontsize = \"xx-large\")\n",
    "    plt.grid()\n",
    "    \n",
    "    plt.subplot(122)\n",
    "    #plt.loglog(k, Pk, 'p', marker='o', color = \"purple\")\n",
    "    degree_sequence=sorted(dict(G.in_degree).values(),reverse=True) \n",
    "    x = list(np.linspace(1,max(degree_sequence),len(degree_sequence)))\n",
    "    plt.loglog(x, degree_sequence, 'p',  marker='o', color = \"purple\")\n",
    "    \n",
    "    plt.xlabel('In-Degree', fontsize = \"large\")\n",
    "    plt.ylabel('Count', fontsize = \"large\")\n",
    "    plt.title('In-Degree Distribution (Log-Log) - %s' %(name), fontsize = \"xx-large\")\n",
    "    \n",
    "    plt.show()"
   ]
  },
  {
   "attachments": {},
   "cell_type": "markdown",
   "metadata": {},
   "source": [
    "Um **caminho** é uma rota que percorre os links da rede. O comprimento de um caminho representa o número de links que o caminho contém. \n",
    "\n",
    "A função `diameter` calcula o diâmetro de uma rede, que é definido como o mais longo de todos os caminhos mais curtos calculados numa rede. Ou seja, é a maior distância registrada entre qualquer par de nós."
   ]
  },
  {
   "cell_type": "code",
   "execution_count": 527,
   "metadata": {},
   "outputs": [],
   "source": [
    "def diameter(G):\n",
    "    max_path = 0\n",
    "    all_shortest_path = nx.shortest_path(G)\n",
    "    for node in all_shortest_path.values():\n",
    "        paths = node.values()\n",
    "        for p in paths:\n",
    "            l = len(p)\n",
    "            if l > max_path:\n",
    "                max_path = l\n",
    "    return max_path - 1"
   ]
  },
  {
   "cell_type": "markdown",
   "metadata": {},
   "source": [
    "O **$m$-ésimo momento da distribuição de grau** é definido como:\n",
    "\n",
    "$$\\left \\langle k^m \\right \\rangle = \\sum_{k_{min}}^{\\infty}{k^m\\cdot p_k} \\approx \\int_{k_{min}}^{\\infty}{k^m\\cdot p(k)dk}$$\n",
    "\n",
    "A função `momment_of_degree_distribution` calcula o $m$-ésimo momento da distribuição de grau. Ela recebe dois **parâmetros de entrada**: a rede $G$ e um número $m$ correspondente ao momento da distribuição a ser calculado. Esta função é uma auxiliar para calcular a variância de $\\left \\langle k \\right \\rangle$ pedida no enunciado da questão.\n",
    "\n",
    "$$Var(\\left \\langle k \\right \\rangle)= \\left \\langle k^2 \\right \\rangle - \\left \\langle k \\right \\rangle^2$$"
   ]
  },
  {
   "cell_type": "code",
   "execution_count": 528,
   "metadata": {},
   "outputs": [],
   "source": [
    "def momment_of_degree_distribution(G,m,k_type='tot'): \n",
    "    k,Pk = degree_distribution(G,k_type)\n",
    "    M = sum((k**m)*Pk)\n",
    "    return M"
   ]
  },
  {
   "cell_type": "markdown",
   "metadata": {},
   "source": [
    "Inicialmente vamos visualizar as redes obtidas no exercício anterior utilizando o [Gephi](https://gephi.org). Nas figuras, as cores e tamanhos do nós foram ranqueados pelo seu respectivo grau de entrada. Além disso, as arestas possuem as cores dos nós de entrada e sua espessura está relacionada ao número de ligações existentes entre os nós $i$ e $j$. "
   ]
  },
  {
   "cell_type": "markdown",
   "metadata": {},
   "source": [
    "#### REDE 1: \n",
    "A figura mostra a rede gerada **SF1**, com $\\left\\langle k\\right\\rangle = 1$ e $\\alpha = 2,5$.\n",
    "<img src=\"Figuras/SF1.png\" alt=\"drawing\" width=\"500\"/>"
   ]
  },
  {
   "cell_type": "code",
   "execution_count": 529,
   "metadata": {},
   "outputs": [
    {
     "name": "stdout",
     "output_type": "stream",
     "text": [
      "Name: \n",
      "Type: DiGraph\n",
      "Number of nodes: 1000\n",
      "Number of edges: 1190\n",
      "Average in degree:   1.1900\n",
      "Average out degree:   1.1900\n"
     ]
    }
   ],
   "source": [
    "# A partir da lista de arestas SF1, podemos construir a rede correspondente\n",
    "V1 = nx.DiGraph(SF1)\n",
    "print(nx.info(V1))"
   ]
  },
  {
   "cell_type": "code",
   "execution_count": 530,
   "metadata": {},
   "outputs": [
    {
     "name": "stdout",
     "output_type": "stream",
     "text": [
      "Grau de Entrada Máximo: 18\n",
      "Grau de Saída Máximo: 20\n"
     ]
    }
   ],
   "source": [
    "print('Grau de Entrada Máximo: ' + str(max(list(dict(V1.in_degree()).values()))))\n",
    "print('Grau de Saída Máximo: ' + str(max(list(dict(V1.out_degree()).values()))))"
   ]
  },
  {
   "cell_type": "code",
   "execution_count": 531,
   "metadata": {},
   "outputs": [
    {
     "name": "stdout",
     "output_type": "stream",
     "text": [
      "Diâmetro da rede: 19\n"
     ]
    }
   ],
   "source": [
    "print('Diâmetro da rede: ' + str(diameter(V1)))"
   ]
  },
  {
   "cell_type": "code",
   "execution_count": 532,
   "metadata": {},
   "outputs": [
    {
     "data": {
      "image/png": "[encoded data removed]",
      "text/plain": [
       "<Figure size 1080x360 with 2 Axes>"
      ]
     },
     "metadata": {
      "needs_background": "light"
     },
     "output_type": "display_data"
    }
   ],
   "source": [
    "# Distribuição dos graus de entrada\n",
    "plot_in_degree_distribution(V1,'Rede I')"
   ]
  },
  {
   "cell_type": "code",
   "execution_count": 540,
   "metadata": {},
   "outputs": [
    {
     "name": "stdout",
     "output_type": "stream",
     "text": [
      "Grau Médio =  1.19\n",
      "Primeiro momento da distribuição de grau =  1.19\n",
      "\n",
      "\n",
      "Segundo momento da distribuição de grau =  4.973999999999999\n",
      "\n",
      "\n",
      "Variância de <k> =  3.557899999999999\n"
     ]
    }
   ],
   "source": [
    "# O primeiro momento é igual ao grau médio da rede\n",
    "m1 = momment_of_degree_distribution(V1,1,'in')\n",
    "vk = list(dict(V1.in_degree()).values())\n",
    "print(\"Grau Médio = \", np.mean(vk))\n",
    "print(\"Primeiro momento da distribuição de grau = \", m1)\n",
    "print('\\n')\n",
    "\n",
    "# Variância de <k>\n",
    "m2 = momment_of_degree_distribution(V1,2,'in')\n",
    "print(\"Segundo momento da distribuição de grau = \", m2)\n",
    "print('\\n')\n",
    "variance = m2 - m1**2\n",
    "print(\"Variância de <k> = \", variance)"
   ]
  },
  {
   "cell_type": "code",
   "execution_count": 534,
   "metadata": {},
   "outputs": [],
   "source": [
    "# Grau máximo esperado\n"
   ]
  },
  {
   "cell_type": "code",
   "execution_count": 535,
   "metadata": {},
   "outputs": [],
   "source": [
    "# Diâmetro esperado \n"
   ]
  },
  {
   "cell_type": "code",
   "execution_count": null,
   "metadata": {},
   "outputs": [],
   "source": []
  },
  {
   "cell_type": "code",
   "execution_count": null,
   "metadata": {},
   "outputs": [],
   "source": []
  },
  {
   "cell_type": "markdown",
   "metadata": {},
   "source": [
    "#### REDE 2: \n",
    "A figura mostra a rede gerada **SF2**, com $\\left\\langle k\\right\\rangle = 2$ e $\\alpha = 2.5$.\n",
    "<img src=\"Figuras/SF2.png\" alt=\"drawing\" width=\"500\"/>"
   ]
  },
  {
   "cell_type": "code",
   "execution_count": 536,
   "metadata": {},
   "outputs": [
    {
     "name": "stdout",
     "output_type": "stream",
     "text": [
      "Name: \n",
      "Type: DiGraph\n",
      "Number of nodes: 1000\n",
      "Number of edges: 1651\n",
      "Average in degree:   1.6510\n",
      "Average out degree:   1.6510\n"
     ]
    }
   ],
   "source": [
    "# A partir da lista de arestas SF2, podemos construir a rede correspondente\n",
    "V2 = nx.DiGraph(SF2)\n",
    "print(nx.info(V2))"
   ]
  },
  {
   "cell_type": "code",
   "execution_count": 537,
   "metadata": {},
   "outputs": [
    {
     "name": "stdout",
     "output_type": "stream",
     "text": [
      "Grau de Entrada Máximo: 25\n",
      "Grau de Saída Máximo: 21\n"
     ]
    }
   ],
   "source": [
    "print('Grau de Entrada Máximo: ' + str(max(list(dict(V2.in_degree()).values()))))\n",
    "print('Grau de Saída Máximo: ' + str(max(list(dict(V2.out_degree()).values()))))"
   ]
  },
  {
   "cell_type": "code",
   "execution_count": 538,
   "metadata": {},
   "outputs": [
    {
     "name": "stdout",
     "output_type": "stream",
     "text": [
      "Diâmetro da rede: 19\n"
     ]
    }
   ],
   "source": [
    "print('Diâmetro da rede: ' + str(diameter(V2)))"
   ]
  },
  {
   "cell_type": "code",
   "execution_count": 539,
   "metadata": {},
   "outputs": [
    {
     "data": {
      "image/png": "[encoded data removed]",
      "text/plain": [
       "<Figure size 1080x360 with 2 Axes>"
      ]
     },
     "metadata": {
      "needs_background": "light"
     },
     "output_type": "display_data"
    }
   ],
   "source": [
    "# Distribuição dos graus de entrada\n",
    "plot_in_degree_distribution(V2,'Rede II')"
   ]
  },
  {
   "cell_type": "code",
   "execution_count": 541,
   "metadata": {},
   "outputs": [
    {
     "name": "stdout",
     "output_type": "stream",
     "text": [
      "Grau Médio =  1.651\n",
      "Primeiro momento da distribuição de grau =  1.651\n",
      "\n",
      "\n",
      "Segundo momento da distribuição de grau =  9.547\n",
      "\n",
      "\n",
      "Variância de <k> =  6.821199\n"
     ]
    }
   ],
   "source": [
    "# O primeiro momento é igual ao grau médio da rede\n",
    "m1 = momment_of_degree_distribution(V2,1,'in')\n",
    "vk = list(dict(V2.in_degree()).values())\n",
    "print(\"Grau Médio = \", np.mean(vk))\n",
    "print(\"Primeiro momento da distribuição de grau = \", m1)\n",
    "print('\\n')\n",
    "\n",
    "# Variância de <k>\n",
    "m2 = momment_of_degree_distribution(V2,2,'in')\n",
    "print(\"Segundo momento da distribuição de grau = \", m2)\n",
    "print('\\n')\n",
    "variance = m2 - m1**2\n",
    "print(\"Variância de <k> = \", variance)"
   ]
  },
  {
   "cell_type": "code",
   "execution_count": 542,
   "metadata": {},
   "outputs": [],
   "source": [
    "# Grau máximo esperado\n"
   ]
  },
  {
   "cell_type": "code",
   "execution_count": 543,
   "metadata": {},
   "outputs": [],
   "source": [
    "# Diâmetro esperado \n"
   ]
  },
  {
   "cell_type": "code",
   "execution_count": null,
   "metadata": {},
   "outputs": [],
   "source": []
  },
  {
   "cell_type": "code",
   "execution_count": null,
   "metadata": {},
   "outputs": [],
   "source": []
  },
  {
   "cell_type": "markdown",
   "metadata": {},
   "source": [
    "#### REDE 3: \n",
    "A figura mostra a rede gerada **SF3**, com $\\left\\langle k\\right\\rangle = 10$ e $\\alpha = 2,5$.\n",
    "<img src=\"Figuras/SF3.png\" alt=\"drawing\" width=\"500\"/>"
   ]
  },
  {
   "cell_type": "code",
   "execution_count": 544,
   "metadata": {},
   "outputs": [
    {
     "name": "stdout",
     "output_type": "stream",
     "text": [
      "Name: \n",
      "Type: DiGraph\n",
      "Number of nodes: 1000\n",
      "Number of edges: 8503\n",
      "Average in degree:   8.5030\n",
      "Average out degree:   8.5030\n"
     ]
    }
   ],
   "source": [
    "# A partir da lista de arestas SF3, podemos construir a rede correspondente\n",
    "V3 = nx.DiGraph(SF3)\n",
    "print(nx.info(V3))"
   ]
  },
  {
   "cell_type": "code",
   "execution_count": 545,
   "metadata": {},
   "outputs": [
    {
     "name": "stdout",
     "output_type": "stream",
     "text": [
      "Grau de Entrada Máximo: 56\n",
      "Grau de Saída Máximo: 56\n"
     ]
    }
   ],
   "source": [
    "print('Grau de Entrada Máximo: ' + str(max(list(dict(V3.in_degree()).values()))))\n",
    "print('Grau de Saída Máximo: ' + str(max(list(dict(V3.out_degree()).values()))))"
   ]
  },
  {
   "cell_type": "code",
   "execution_count": 546,
   "metadata": {},
   "outputs": [
    {
     "name": "stdout",
     "output_type": "stream",
     "text": [
      "Diâmetro da rede: 8\n"
     ]
    }
   ],
   "source": [
    "print('Diâmetro da rede: ' + str(diameter(V3)))"
   ]
  },
  {
   "cell_type": "code",
   "execution_count": 566,
   "metadata": {},
   "outputs": [
    {
     "data": {
      "image/png": "[encoded data removed]",
      "text/plain": [
       "<Figure size 1080x360 with 2 Axes>"
      ]
     },
     "metadata": {
      "needs_background": "light"
     },
     "output_type": "display_data"
    }
   ],
   "source": [
    "# Distribuição dos graus de entrada\n",
    "plot_in_degree_distribution(V3,'Rede III')"
   ]
  },
  {
   "cell_type": "code",
   "execution_count": 567,
   "metadata": {},
   "outputs": [
    {
     "name": "stdout",
     "output_type": "stream",
     "text": [
      "Grau Médio =  8.503\n",
      "Primeiro momento da distribuição de grau =  8.502999999999998\n",
      "\n",
      "\n",
      "Segundo momento da distribuição de grau =  145.62700000000004\n",
      "\n",
      "\n",
      "Variância de <k> =  73.32599100000007\n"
     ]
    }
   ],
   "source": [
    "# O primeiro momento é igual ao grau médio da rede\n",
    "m1 = momment_of_degree_distribution(V3,1,'in')\n",
    "vk = list(dict(V3.in_degree()).values())\n",
    "print(\"Grau Médio = \", np.mean(vk))\n",
    "print(\"Primeiro momento da distribuição de grau = \", m1)\n",
    "print('\\n')\n",
    "\n",
    "# Variância de <k>\n",
    "m2 = momment_of_degree_distribution(V3,2,'in')\n",
    "print(\"Segundo momento da distribuição de grau = \", m2)\n",
    "print('\\n')\n",
    "variance = m2 - m1**2\n",
    "print(\"Variância de <k> = \", variance)"
   ]
  },
  {
   "cell_type": "code",
   "execution_count": null,
   "metadata": {},
   "outputs": [],
   "source": [
    "# Grau máximo esperado\n"
   ]
  },
  {
   "cell_type": "code",
   "execution_count": null,
   "metadata": {},
   "outputs": [],
   "source": [
    "# Diâmetro esperado \n"
   ]
  },
  {
   "cell_type": "code",
   "execution_count": null,
   "metadata": {},
   "outputs": [],
   "source": []
  },
  {
   "cell_type": "code",
   "execution_count": null,
   "metadata": {},
   "outputs": [],
   "source": []
  },
  {
   "cell_type": "markdown",
   "metadata": {},
   "source": [
    "A tabela a seguir mostra o resumos das medidas calculadas para cada uma dessas redes apresentadas.\n",
    "\n",
    "| Redes \t| Arestas \t| Var($\\left\\langle k\\right\\rangle$) \t| $k_{in}$ Máximo \t| Diâmetro \t| Componentes Conexas \t|\n",
    "|:--------:\t|---------\t|:----------------------------------:\t|:---------------:\t|:--------:\t|:-------------------:\t|\n",
    "| Rede I \t| 1190 \t| 3.55 \t| 18 \t| 19 \t| 175 \t|\n",
    "| Rede II \t| 1651 \t| 6.82 \t| 25 \t| 19 \t| 75 \t|\n",
    "| Rede III \t| 8503 \t| 73.32 \t| 56 \t| 8 \t| 1 \t|"
   ]
  },
  {
   "cell_type": "code",
   "execution_count": 606,
   "metadata": {},
   "outputs": [
    {
     "data": {
      "image/png": "[encoded data removed]",
      "text/plain": [
       "<Figure size 864x288 with 3 Axes>"
      ]
     },
     "metadata": {
      "needs_background": "light"
     },
     "output_type": "display_data"
    }
   ],
   "source": [
    "fig, axs = plt.subplots(1,3, figsize=(12, 4), constrained_layout=True)\n",
    "fig.suptitle('Distribuição do Grau de Entrada (Log-Log)', fontsize=20)\n",
    "V = [V1, V2 ,V3]\n",
    "axs = axs.ravel()\n",
    "for i in range(3):\n",
    "    degree_sequence=sorted(dict(V[i].in_degree).values(),reverse=True) \n",
    "    x = list(np.linspace(1,max(degree_sequence),len(degree_sequence)))\n",
    "    axs[i].loglog(x, degree_sequence, 'p',  marker='o', color = \"purple\")\n",
    "    axs[i].set_title('Rede ' + str(i+1))\n",
    "    axs[i].set_xlabel('In-Degree')\n",
    "    axs[i].set_ylabel('Count')"
   ]
  },
  {
   "cell_type": "markdown",
   "metadata": {},
   "source": [
    "___\n",
    "## II. Simulação de Epidemias\n",
    "___"
   ]
  },
  {
   "cell_type": "markdown",
   "metadata": {},
   "source": [
    "No **modelo SIS**, os indivíduos infectados não são imunes às doenças podendo, mesmo após a recuperação, serem infectados novamente. Há apenas dois estados (modelo compartimental): **suscetíveis** (S) e **infectados** (I), em que esses últimos tornam-se suscetíveis após a recuperação.\n",
    "\n",
    "Um indivíduo no estado suscetível não possui a doença, mas pode pegá-la caso entre em contato com algum indíviduo no estado infectado, aquele que possui a doença e pode transmití-la (mistura homogênea). Vamos considerar uma doença que se espalha através de uma população de indivíduos. Seja $S(t)$ o número de indivíduos que são suscetíveis no tempo $t$ e $I(t)$ o número de indivíduos que estão infectados. Como nesse modelo um indivíduo só possui duas opções de estados, temos que $S + I = N$, onde $N$ é a população total. O conjunto de equações que descrevem a dinâmica desse modelo é dada pelas seguintes equações diferenciais:\n",
    "\n",
    "$$\\frac{ds}{dt}=\\mu i - \\beta \\left \\langle k \\right \\rangle i(1-i) \\qquad \\frac{di}{dt}=\\beta \\left \\langle k \\right \\rangle i(1-i) - \\mu i$$\n",
    "\n",
    "\n",
    "onde $\\beta$ é a probabilidade de a doença ser transmitida de um indivíduo infectado para um indivíduo suscetível (aqueles que são seus vizinhos) em um tempo unitário (**taxa de infecção**) e $\\mu$ é a probabilidade de um indivíduo infectado se recuperar da doença em um tempo unitário (**taxa de recuperação**)."
   ]
  },
  {
   "cell_type": "markdown",
   "metadata": {},
   "source": [
    "O algoritmo descrito na função `SIS`, a seguir, simula o comportamento epidêmico de uma rede no modelo SIS."
   ]
  },
  {
   "cell_type": "code",
   "execution_count": 630,
   "metadata": {},
   "outputs": [],
   "source": [
    "def SIS(G, beta, mu, time):\n",
    "    \n",
    "    N = len(G.nodes())\n",
    "    nx.set_node_attributes(G, {i: False for i in range(1,N+1)}, 'infectado')\n",
    " \n",
    "    nodes_infected = rnd.sample(range(1,N+1), 5) # Em t0 temos 5 infectados\n",
    "     \n",
    "    for node in nodes_infected:\n",
    "        G.node[node]['infectado'] = True\n",
    "     \n",
    "    historic = [len(nodes_infected)] # Aramzena a quantidade de infectados conforme a evolução do tempo\n",
    "    \n",
    "    for t in range(1,time+1):\n",
    "        \n",
    "        old_infected = nodes_infected\n",
    "        nodes_infected = []\n",
    " \n",
    "        for node in old_infected:\n",
    "            for neighbor in G.neighbors(node): # Para cada vizinho do nó infectado\n",
    "                \n",
    "                # Nós que não estão infectados \n",
    "                if G.node[neighbor]['infectado'] == False:\n",
    "                    if rnd.random() < beta: # Se o aleatório for menor que a taxa de infecção\n",
    "                        nodes_infected.append(neighbor)\n",
    "                        G.node[neighbor]['infectado'] = True # o vizinho torna-se infectado\n",
    "            \n",
    "            # Nós que estão infectados\n",
    "            if rnd.random() < mu: # Se o aleatório for menor que a taxa de recuperação,\n",
    "                G.node[node]['infectado'] = False # o nó infectado torna-se suscetível\n",
    "            else:\n",
    "                nodes_infected.append(node) # o nó infectado permanece infectado\n",
    "                \n",
    "        historic.append(len(nodes_infected))\n",
    "        \n",
    "    return (G, historic)"
   ]
  },
  {
   "cell_type": "markdown",
   "metadata": {},
   "source": [
    "___\n",
    "### EXERCÍCIO 1:\n",
    "\n",
    "Gere uma rede aleatória com $10.000$ vértices e grau médio $\\left \\langle k \\right \\rangle = 20$. Comece com 5 vértices aleatórios infectados e simule a propagação da infecção pelo **modelo SIS** com os parâmetros abaixo e compare com os resultados esperados.\n",
    "\n",
    "a. $\\beta=0.02$ e $\\mu=0.1$\n",
    "\n",
    "b. $\\beta=0.02$ e $\\mu=0.4$\n",
    "\n",
    "c. $\\beta=0.02$ e $\\mu=0.5$\n",
    "    \n",
    "Mostre que se $𝑅_0 = \\frac{\\beta \\left \\langle k \\right \\rangle}{\\mu} > 1$ então a doença se fixa na rede, no modelo SIS de campo médio.\n",
    "___"
   ]
  },
  {
   "cell_type": "code",
   "execution_count": 619,
   "metadata": {},
   "outputs": [],
   "source": [
    "def RandomGraph(N, k):\n",
    "    pk = k/(N-1)\n",
    "    G = []\n",
    " \n",
    "    nodes = range(1,N+1)\n",
    "    edges = itertools.combinations(nodes,2)\n",
    "    for e in edges:\n",
    "        if rnd.random() < pk:\n",
    "            G.append(list(e))\n",
    "    return G"
   ]
  },
  {
   "cell_type": "code",
   "execution_count": 700,
   "metadata": {},
   "outputs": [],
   "source": [
    "N = 10000\n",
    "G = nx.Graph()\n",
    "G.add_edges_from(RandomGraph(N, 20))"
   ]
  },
  {
   "cell_type": "code",
   "execution_count": 684,
   "metadata": {},
   "outputs": [],
   "source": [
    "beta = 0.02\n",
    "time = 300\n",
    "G1,T1 = SIS(G, beta, 0.1, time)\n",
    "G2,T2 = SIS(G, beta, 0.4, time)\n",
    "G3,T3 = SIS(G, beta, 0.5, time)\n",
    "\n",
    "pickle.dump([G,G1,T1,G2,T2,G3,T3], open(\"Redes/SIS_Random.p\", \"wb\"))\n",
    "#[G,G1,T1,G2,T2,G3,T3] = pickle.load(open(\"Redes/SIS_Random.p\", \"rb\" ))"
   ]
  },
  {
   "cell_type": "code",
   "execution_count": 708,
   "metadata": {},
   "outputs": [
    {
     "data": {
      "image/png": "[encoded data removed]",
      "text/plain": [
       "<Figure size 864x864 with 3 Axes>"
      ]
     },
     "metadata": {
      "needs_background": "light"
     },
     "output_type": "display_data"
    }
   ],
   "source": [
    "fig, axs = plt.subplots(3,1, figsize=(12, 12), constrained_layout=True)\n",
    "fig.suptitle('Modelo SIS em Redes Aleatórias com Beta = 0.02', fontsize=20)\n",
    "T = [T1,T2,T3]\n",
    "mu = [0.1,0.4,0.5]\n",
    "#axs = axs.ravel()\n",
    "for i in range(3):\n",
    "    ro = beta*20/mu[i]\n",
    "    axs[i].plot([j/N*100 for j in T[i]], color = \"red\")\n",
    "    axs[i].set_title(\"$\\mu$=\" + str(mu[i]) + ' e $R_0=$' + str(ro), fontsize=18)\n",
    "    axs[i].set_xlabel('Tempo', fontsize=14)\n",
    "    axs[i].set_ylabel('% de Infectados', fontsize=14)"
   ]
  },
  {
   "cell_type": "markdown",
   "metadata": {},
   "source": [
    "Uma forma muito comum de classi􏰀cação dos resultados obtidos por essas simulações é por meio de uma quantidade limite que determina se uma epidemia ocorre ou se a doença simplesmente morre. Essa quantidade é denominada o **número de reprodução básico** ($R$0) e é responsável por mensurar o potencial de transmissão de uma doença.\n",
    "\n",
    "$$R_0=\\frac{\\beta \\left \\langle k \\right \\rangle}{\\mu}$$\n",
    "\n",
    "Se $R_0 > 1$, então estamos no **estado endêmico** e se $R_0 < 1$, estamos no **estado livre de doença**, em que a doença morre."
   ]
  },
  {
   "cell_type": "markdown",
   "metadata": {},
   "source": [
    "Quando $\\mu = 0,1$ (**simulação 1**) temos que $R_0 = 4 > 1$ e, portanto, estamos no **estado endêmico** (ou estacionário). Ou seja, para uma baixa taxa de recuperação, o grá􏰀co de simulação segue uma curva logística. Apesar de nem todo mundo fi􏰀car infectado, $i(t)$ quanto $t \\rightarrow \\infty$ atinge um valor constante menor do que 1. Dessa forma, a qualquer momento, apenas uma fração 􏰀finita da população está infectada.\n",
    "\n",
    "\n",
    "Quando $\\mu = 0,5$ (**simulação 3**) temos que $R_0 = 08 < 1$ e, portanto, estamos no **estado livre de doença**. Ou seja, para uma taxa de recuperação muito grande ($\\mu > \\beta$), a cada unidade de tempo $t$, o número de indivíduos suscetíveis excede o número de indivíduos recém-infectados, indicando que a infeção inicial vai morrer com o tempo de forma exponencial. \n",
    "\n",
    "Quando $\\mu = 0,4$ (**simulação 2**) temos que $R_0 = 1 < 1$ e estamos em um ponto crítico em que há a mudança de estado. Nesse ponto cada vez que realizamos a simulação obtemos um comportamento inicial bem diferente, no entanto, sempre indica que a infeção inicial irá morrer com o tempo."
   ]
  },
  {
   "cell_type": "markdown",
   "metadata": {},
   "source": [
    "Os resultados obtidos com as simulações para as redes aleatórias ocorreram como esperado. No entanto, dependendo da distribuição dos graus, o espalahamento da infecção se comporta de forma diferente apesar dos valores de R0. Veremos isso a seguir, em que fazemos uma simulação para redes livre de escala."
   ]
  },
  {
   "cell_type": "markdown",
   "metadata": {},
   "source": [
    "___\n",
    "### EXERCÍCIO 2:\n",
    "\n",
    "Gere uma rede livre de escala com $10.000$ vértices, grau médio $\\left \\langle k \\right \\rangle > 20$ e expoente $\\alpha$ entre 2 e 3. Comece com 5 vértices aleatórios infectados e simule a propagação da infecção pelo **modelo SIS** com os parâmetros abaixo e compare com os resultados esperados.\n",
    "\n",
    "a. $\\beta=0.01$ e $\\mu=0.1$\n",
    "\n",
    "b. $\\beta=0.01$ e $\\mu=0.2$ \n",
    "\n",
    "c. $\\beta=0.01$ e $\\mu=0.3$ \n",
    "___"
   ]
  },
  {
   "cell_type": "code",
   "execution_count": null,
   "metadata": {},
   "outputs": [],
   "source": []
  },
  {
   "cell_type": "markdown",
   "metadata": {},
   "source": [
    "___\n",
    "### EXERCÍCIO 3:\n",
    "\n",
    "Considere o exercício anterior, **letra a**. Descubra o número de vértices imunizados necessários para impedir o estado endêmico nos seguintes cenários:\n",
    "\n",
    "a. Os vértices imunizados são escolhidos aleatoriamente.\n",
    "\n",
    "b. Os vértices imunizados são os de maior grau (hubs).\n",
    "\n",
    "c. Os vértices imunizados são os vizinhos de vértices escolhidos aleatoriamente.\n",
    "___"
   ]
  },
  {
   "cell_type": "code",
   "execution_count": null,
   "metadata": {},
   "outputs": [],
   "source": []
  }
 ],
 "metadata": {
  "kernelspec": {
   "display_name": "Python 3",
   "language": "python",
   "name": "python3"
  },
  "language_info": {
   "codemirror_mode": {
    "name": "ipython",
    "version": 3
   },
   "file_extension": ".py",
   "mimetype": "text/x-python",
   "name": "python",
   "nbconvert_exporter": "python",
   "pygments_lexer": "ipython3",
   "version": "3.7.4"
  }
 },
 "nbformat": 4,
 "nbformat_minor": 2
}
