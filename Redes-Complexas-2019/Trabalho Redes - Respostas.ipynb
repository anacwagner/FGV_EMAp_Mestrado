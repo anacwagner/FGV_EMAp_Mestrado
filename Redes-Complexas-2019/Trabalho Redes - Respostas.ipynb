{
 "cells": [
  {
   "cell_type": "markdown",
   "metadata": {},
   "source": [
    "# Trabalho de Redes Complexas\n",
    "\n",
    "\n",
    "\n",
    "**ALUNA:**: Ana Carolina Wagner\n",
    "\n",
    "\n",
    "**PROFESSOR**: Moacyr Silva\n",
    "\n",
    "\n",
    "**Mestrado em Modelagem Matemática - EMAp|FGV - 2019.2**"
   ]
  },
  {
   "cell_type": "markdown",
   "metadata": {},
   "source": [
    "___\n",
    "## Geração de Redes\n",
    "___"
   ]
  },
  {
   "cell_type": "markdown",
   "metadata": {},
   "source": [
    "### EXERCÍCO 1:\n",
    "\n",
    "Construa um programa que gere uma rede a partir de uma distribuição dada – “configuration model” ou modelo de pareamento. Para simplificar, pode permitir *autoloops* e arestas repetidas.\n",
    "\n",
    "**Entrada:** número de vértices $N$, grau de cada nó.\n",
    "\n",
    "**Saída:** lista de arestas."
   ]
  },
  {
   "cell_type": "code",
   "execution_count": null,
   "metadata": {},
   "outputs": [],
   "source": []
  },
  {
   "cell_type": "markdown",
   "metadata": {},
   "source": [
    "### EXERCÍCIO 2:\n",
    "\n",
    "Gere redes livres de escala com $1.000$ vértices a partir do modelo de pareamento com as seguintes combinações de parâmetros: $\\alpha = 2.5$ e $\\left \\langle k \\right \\rangle = 1$, $\\left \\langle k \\right \\rangle=2$ e $\\left \\langle k \\right \\rangle=10$."
   ]
  },
  {
   "cell_type": "code",
   "execution_count": null,
   "metadata": {},
   "outputs": [],
   "source": []
  },
  {
   "cell_type": "markdown",
   "metadata": {},
   "source": [
    "### EXERCÍCIO 3:\n",
    "\n",
    "Visualize as redes e encontre o grau máximo e o diâmetro. Calcule a variância de $\\left \\langle k \\right \\rangle$ e a distribuição dos graus de entrada. Mostre como determinar o grau máximo esperado e o diâmetro esperado de cada rede. Compare os valores encontrados com os esperados."
   ]
  },
  {
   "cell_type": "code",
   "execution_count": null,
   "metadata": {},
   "outputs": [],
   "source": []
  },
  {
   "cell_type": "markdown",
   "metadata": {},
   "source": [
    "___\n",
    "## Simulação de Epidemias\n",
    "___"
   ]
  },
  {
   "cell_type": "markdown",
   "metadata": {},
   "source": [
    "### EXERCÍCIO 1:\n",
    "\n",
    "Gere uma rede aleatória com $10.000$ vértices e grau médio $\\left \\langle k \\right \\rangle = 20$. Comece com 5 vértices aleatórios infectados e simule a propagação da infecção pelo **modelo SIS** com os parâmetros abaixo e compare com os resultados esperados.\n",
    "\n",
    "a. $\\beta=0.02$ e $\\mu=0.1$\n",
    "\n",
    "b. $\\beta=0.02$ e $\\mu=0.4$\n",
    "\n",
    "c. $\\beta=0.02$ e $\\mu=0.5$\n",
    "    \n",
    "Mostre que se $𝑅_0 = \\frac{\\beta \\left \\langle k \\right \\rangle}{\\mu} > 1$ então a doença se fixa na rede, no modelo SIS de campo médio."
   ]
  },
  {
   "cell_type": "code",
   "execution_count": null,
   "metadata": {},
   "outputs": [],
   "source": []
  },
  {
   "cell_type": "markdown",
   "metadata": {},
   "source": [
    "### EXERCÍCIO 2:\n",
    "\n",
    "Gere uma rede livre de escala com $10.000$ vértices, grau médio $\\left \\langle k \\right \\rangle > 20$ e expoente $\\alpha$ entre 2 e 3. Comece com 5 vértices aleatórios infectados e simule a propagação da infecção pelo **modelo SIS** com os parâmetros abaixo e compare com os resultados esperados.\n",
    "\n",
    "a. $\\beta=0.01$ e $\\mu=0.1$\n",
    "\n",
    "b. $\\beta=0.01$ e $\\mu=0.2$ \n",
    "\n",
    "c. $\\beta=0.01$ e $\\mu=0.3$ "
   ]
  },
  {
   "cell_type": "code",
   "execution_count": null,
   "metadata": {},
   "outputs": [],
   "source": []
  },
  {
   "cell_type": "markdown",
   "metadata": {},
   "source": [
    "### EXERCÍCIO 3:\n",
    "\n",
    "\n",
    "Considere o exercício anterior, **letra a**. Descubra o número de vértices imunizados necessários para impedir o estado endêmico nos seguintes cenários:\n",
    "\n",
    "a. Os vértices imunizados são escolhidos aleatoriamente.\n",
    "\n",
    "b. Os vértices imunizados são os de maior grau (hubs).\n",
    "\n",
    "c. Os vértices imunizados são os vizinhos de vértices escolhidos aleatoriamente."
   ]
  },
  {
   "cell_type": "code",
   "execution_count": null,
   "metadata": {},
   "outputs": [],
   "source": []
  }
 ],
 "metadata": {
  "kernelspec": {
   "display_name": "Python 3",
   "language": "python",
   "name": "python3"
  },
  "language_info": {
   "codemirror_mode": {
    "name": "ipython",
    "version": 3
   },
   "file_extension": ".py",
   "mimetype": "text/x-python",
   "name": "python",
   "nbconvert_exporter": "python",
   "pygments_lexer": "ipython3",
   "version": "3.7.4"
  }
 },
 "nbformat": 4,
 "nbformat_minor": 2
}
